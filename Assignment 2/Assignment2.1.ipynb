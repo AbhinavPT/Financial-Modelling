{
 "cells": [
  {
   "cell_type": "markdown",
   "id": "deb1817a-f435-4130-9038-0f2400198605",
   "metadata": {},
   "source": [
    "#Defining the functions"
   ]
  },
  {
   "cell_type": "code",
   "execution_count": 2,
   "id": "97ca1774-214b-4e42-ae8f-318c54240435",
   "metadata": {
    "tags": []
   },
   "outputs": [],
   "source": [
    "import numpy as np\n",
    "import matplotlib.pyplot as plt\n",
    "import math\n",
    "\n",
    "# Define the functions\n",
    "def f1(x):\n",
    "    return x**31 - 1000\n",
    "\n",
    "def f2(x):\n",
    "    return (np.sin(x))**5 * (np.cos(x))**3 - np.exp(x)\n",
    "\n",
    "def f3(x):\n",
    "    return 1/(1 + np.exp(-x**2 - np.sin(x) - x)) - 0.5\n",
    "\n",
    "# Define the finite difference method to approximate the derivative\n",
    "def finite_diff(f, x, h=1e-5):\n",
    "    return (f(x + h) - f(x - h)) / (2 * h)"
   ]
  },
  {
   "cell_type": "code",
   "execution_count": 3,
   "id": "afe2f437-749b-4064-9017-7f238cf4adcd",
   "metadata": {
    "tags": []
   },
   "outputs": [],
   "source": [
    "def calculate_order_of_convergence(errors):\n",
    "    n = len(errors)\n",
    "    if n < 2:\n",
    "        return None  # Not enough data points to determine order\n",
    "    \n",
    "    # Calculate differences for log-log plot\n",
    "    log_errors = np.log(errors)\n",
    "    log_ratios = np.log(errors[1:] / errors[:-1])\n",
    "\n",
    "    # Fit a linear regression to find the slope\n",
    "    slope, intercept = np.polyfit(log_errors[:-1], log_ratios, 1)\n",
    "\n",
    "    return slope  # This slope is the order of convergence p"
   ]
  },
  {
   "cell_type": "markdown",
   "id": "c08dfde6-bb72-4eea-9c58-7ed39ec2d6ba",
   "metadata": {
    "tags": []
   },
   "source": [
    "#Bisection method"
   ]
  },
  {
   "cell_type": "code",
   "execution_count": null,
   "id": "2c7d6010-59b0-46b9-8f92-1ee08a28c43d",
   "metadata": {},
   "outputs": [],
   "source": []
  },
  {
   "cell_type": "code",
   "execution_count": 4,
   "id": "de874c66-8eb8-4f61-8fe3-39130b9f885a",
   "metadata": {
    "tags": []
   },
   "outputs": [],
   "source": [
    "def bisection(f, a, b, tol=1e-3, max_iter=1000):\n",
    "    if f(a) * f(b) > 0:\n",
    "        raise ValueError(\"The function must have different signs at the endpoints a and b.\")\n",
    "    \n",
    "    iterations = 0\n",
    "    while (b - a) / 2 > tol and iterations < max_iter:\n",
    "        c = (a + b) / 2\n",
    "        if f(c) == 0:\n",
    "            break\n",
    "        elif f(a) * f(c) < 0:\n",
    "            b = c\n",
    "        else:\n",
    "            a = c\n",
    "       \n",
    "        iterations += 1\n",
    "    \n",
    " \n",
    "    \n",
    "    return c, iterations\n"
   ]
  },
  {
   "cell_type": "markdown",
   "id": "39e35da1-7d37-48da-b334-555444b126db",
   "metadata": {
    "tags": []
   },
   "source": [
    "#Newton-Raphson Method"
   ]
  },
  {
   "cell_type": "code",
   "execution_count": 5,
   "id": "1a072ef5-08e4-4cfe-8acf-7272fd3efab2",
   "metadata": {
    "tags": []
   },
   "outputs": [],
   "source": [
    "def newton_raphson(f, x0, tol=1e-3, max_iter=1000):\n",
    "    x = x0\n",
    "    iterations = 0\n",
    "    while abs(f(x)) > tol and iterations < max_iter:\n",
    "        x_new = x - f(x) / finite_diff(f, x)\n",
    "        x = x_new\n",
    "        iterations += 1\n",
    "        \n",
    "    \n",
    "    root = x\n",
    "  \n",
    "    \n",
    "    return root, iterations\n"
   ]
  },
  {
   "cell_type": "markdown",
   "id": "8c9ed2dc-b4b6-42c1-8bb0-5ef1f186544c",
   "metadata": {},
   "source": [
    "#Secant Method"
   ]
  },
  {
   "cell_type": "code",
   "execution_count": 6,
   "id": "9fd1f96b-d325-4e0c-980a-25fd66ad2051",
   "metadata": {
    "tags": []
   },
   "outputs": [],
   "source": [
    "def secant(f, x0, x1, tol=1e-3, max_iter=1000):\n",
    "    iterations = 0\n",
    "    while abs(f(x1)) > tol and iterations < max_iter:\n",
    "        x2 = x1 - f(x1) * (x1 - x0) / (f(x1) - f(x0))\n",
    "        x0, x1 = x1, x2\n",
    "        iterations += 1\n",
    "    \n",
    "    root = x2\n",
    "    \n",
    "    return root, iterations\n"
   ]
  },
  {
   "cell_type": "markdown",
   "id": "9f1f988b-b09f-4f57-977e-1c8efdc86028",
   "metadata": {
    "tags": []
   },
   "source": [
    "#False Position Method (Regula Falsi)"
   ]
  },
  {
   "cell_type": "code",
   "execution_count": 7,
   "id": "b0d72ccf-a78c-401c-9d9c-081867ac64f6",
   "metadata": {
    "tags": []
   },
   "outputs": [],
   "source": [
    "def false_position(f, a, b, tol=1e-3, max_iter=2000):\n",
    "    if f(a) * f(b) > 0:\n",
    "        raise ValueError(\"The function must have different signs at the endpoints a and b.\")\n",
    "    \n",
    "    iterations = 0\n",
    "    while abs(f(b) - f(a)) > tol and iterations < max_iter:\n",
    "        c = b - f(b) * (b - a) / (f(b) - f(a))\n",
    "        \n",
    "        if abs(f(c)) < tol:\n",
    "            break\n",
    "        elif f(a) * f(c) < 0:\n",
    "            b = c\n",
    "        else:\n",
    "            a = c\n",
    "        iterations += 1\n",
    "    \n",
    "    root = c\n",
    "    \n",
    "    return root, iterations"
   ]
  },
  {
   "cell_type": "markdown",
   "id": "85247f0e-2013-415e-a2e9-424cf9c0d8e1",
   "metadata": {},
   "source": [
    "#function executing all algos"
   ]
  },
  {
   "cell_type": "code",
   "execution_count": 8,
   "id": "48b7622b-47ff-4dc6-8368-91fff5791e7f",
   "metadata": {
    "tags": []
   },
   "outputs": [],
   "source": [
    "def test_algorithms(f, a, b, x0, x1):\n",
    "    results = {}\n",
    "    \n",
    "    try:\n",
    "        root_bis, iter_bis = bisection(f, a, b)\n",
    "        results['Bisection'] = (root_bis, iter_bis)\n",
    "    except ValueError as e:\n",
    "        results['Bisection'] = str(e)\n",
    "    \n",
    "    try:\n",
    "        root_nr, iter_nr = newton_raphson(f, x0)\n",
    "        results['Newton-Raphson'] = (root_nr, iter_nr)\n",
    "    except Exception as e:\n",
    "        results['Newton-Raphson'] = str(e)\n",
    "    \n",
    "    try:\n",
    "        root_sec, iter_sec = secant(f, x0, x1)\n",
    "        results['Secant'] = (root_sec, iter_sec)\n",
    "    except Exception as e:\n",
    "        results['Secant'] = str(e)\n",
    "    \n",
    "    try:\n",
    "        root_fp, iter_fp = false_position(f, a, b)\n",
    "        results['False Position'] = (root_fp, iter_fp)\n",
    "    except ValueError as e:\n",
    "        results['False Position'] = str(e)\n",
    "    \n",
    "    return results\n"
   ]
  },
  {
   "cell_type": "markdown",
   "id": "5dc52f9e-e143-4652-a45d-cc1e06740aee",
   "metadata": {
    "tags": []
   },
   "source": [
    "#Initialise Points"
   ]
  },
  {
   "cell_type": "code",
   "execution_count": 9,
   "id": "11bd0188-f2f8-4f07-9842-5e06675d07b8",
   "metadata": {
    "tags": []
   },
   "outputs": [],
   "source": [
    "# Define initial guesses and intervals for the test functions\n",
    "interval_f1 = [1.2, 1.4]\n",
    "interval_f2 = [-5.4, -2]\n",
    "interval_f3 = [-2, -0.7]\n",
    "\n",
    "x0_f1 = 1.5\n",
    "x1_f1 = 2.0\n",
    "\n",
    "x0_f2 = -4.5\n",
    "x1_f2 = -2.0\n",
    "\n",
    "x0_f3 = -1.2\n",
    "x1_f3 = -1.0"
   ]
  },
  {
   "cell_type": "markdown",
   "id": "007aafd1-bf88-466d-8c4d-6b4c18117c31",
   "metadata": {},
   "source": [
    "#Print the root and iterations required"
   ]
  },
  {
   "cell_type": "code",
   "execution_count": 10,
   "id": "80347e4b-576d-4af3-bdfe-e76303ab522d",
   "metadata": {
    "tags": []
   },
   "outputs": [
    {
     "data": {
      "text/plain": [
       "({'Bisection': (1.2484375, 7),\n",
       "  'Newton-Raphson': (1.2496091495638755, 9),\n",
       "  'Secant': (1.2496091417004975, 15),\n",
       "  'False Position': (1.2496091039801553, 119)},\n",
       " {'Bisection': (-4.91357421875, 11),\n",
       "  'Newton-Raphson': (-4.915476118490299, 6),\n",
       "  'Secant': (-4.908497005018796, 6),\n",
       "  'False Position': (-4.907858612425408, 4)},\n",
       " {'Bisection': (-1.61787109375, 10),\n",
       "  'Newton-Raphson': (-1.6176351295452107, 3),\n",
       "  'Secant': (-1.6174428756717847, 5),\n",
       "  'False Position': (-1.616278984344038, 3)})"
      ]
     },
     "execution_count": 10,
     "metadata": {},
     "output_type": "execute_result"
    }
   ],
   "source": [
    "results_f1 = test_algorithms(f1, *interval_f1, x0_f1, x1_f1)\n",
    "results_f2 = test_algorithms(f2, *interval_f2, x0_f2, x1_f2)\n",
    "results_f3 = test_algorithms(f3, *interval_f3, x0_f3, x1_f3)\n",
    "\n",
    "results_f1, results_f2, results_f3"
   ]
  },
  {
   "cell_type": "markdown",
   "id": "4ff45f4a-6f56-4c97-88af-d1e8b11b1c4d",
   "metadata": {},
   "source": [
    "#Finding the order of all the four algorithms by passing through all the three functions"
   ]
  },
  {
   "cell_type": "code",
   "execution_count": 16,
   "id": "1310d411-34de-44f4-8452-e012401fb7e7",
   "metadata": {},
   "outputs": [
    {
     "name": "stdout",
     "output_type": "stream",
     "text": [
      "Newton-Raphson order of convergence for f(x): 1.6243856064940572\n",
      "Secant order of convergence for f(x): 1.109648581256464\n",
      "Bisection order of convergence for f(x): 0.9428571428571428\n",
      "False Position order of convergence for f(x): 0.9799999858452263\n",
      "Newton-Raphson order of convergence for g(x): -0.38824893823528284\n",
      "Secant order of convergence for g(x): 6.441425745327228\n",
      "Bisection order of convergence for g(x): 0.9285714285714286\n",
      "False Position order of convergence for g(x): 0.8056632322230998\n",
      "Newton-Raphson order of convergence for h(x): 0.9828091366051239\n",
      "Secant order of convergence for h(x): 1.0211415467570253\n",
      "Bisection order of convergence for h(x): 0.9310344827586207\n",
      "False Position order of convergence for h(x): 0.8949347223410226\n"
     ]
    }
   ],
   "source": [
    "def df(x):\n",
    "    return 31 * x**30\n",
    "\n",
    "# Root-finding methods\n",
    "def newton_raphson(f, df, x0, tol=1e-10, max_iter=100):\n",
    "    x = x0\n",
    "    errors = []\n",
    "    for _ in range(max_iter):\n",
    "        x_new = x - f(x) / df(x)\n",
    "        errors.append(abs(x_new - x))\n",
    "        if abs(x_new - x) < tol:\n",
    "            break\n",
    "        x = x_new\n",
    "    return errors\n",
    "\n",
    "def newton_raphson_numerical(f, x0, tol=1e-10, max_iter=100):\n",
    "    x = x0\n",
    "    errors = []\n",
    "    for _ in range(max_iter):\n",
    "        x_new = x - f(x) / finite_diff(f, x)\n",
    "        errors.append(abs(x_new - x))\n",
    "        if abs(x_new - x) < tol:\n",
    "            break\n",
    "        x = x_new\n",
    "    return errors\n",
    "\n",
    "def secant(f, x0, x1, tol=1e-10, max_iter=100):\n",
    "    errors = []\n",
    "    for _ in range(max_iter):\n",
    "        if f(x1) == f(x0):  # prevent division by zero\n",
    "            break\n",
    "        x_new = x1 - f(x1) * (x1 - x0) / (f(x1) - f(x0))\n",
    "        errors.append(abs(x_new - x1))\n",
    "        if abs(x_new - x1) < tol:\n",
    "            break\n",
    "        x0, x1 = x1, x_new\n",
    "    return errors\n",
    "\n",
    "def bisection(f, a, b, tol=1e-10, max_iter=100):\n",
    "    errors = []\n",
    "    for _ in range(max_iter):\n",
    "        c = (a + b) / 2\n",
    "        errors.append(abs(b - a))\n",
    "        if abs(f(c)) < tol or abs(b - a) < tol:\n",
    "            break\n",
    "        if f(a) * f(c) < 0:\n",
    "            b = c\n",
    "        else:\n",
    "            a = c\n",
    "    return errors\n",
    "\n",
    "def false_position(f, a, b, tol=1e-10, max_iter=100):\n",
    "    errors = []\n",
    "    for _ in range(max_iter):\n",
    "        c = (a * f(b) - b * f(a)) / (f(b) - f(a))\n",
    "        errors.append(abs(c - b))\n",
    "        if abs(f(c)) < tol:\n",
    "            break\n",
    "        if f(a) * f(c) < 0:\n",
    "            b = c\n",
    "        else:\n",
    "            a = c\n",
    "    return errors\n",
    "\n",
    "# Calculate order of convergence\n",
    "def order_of_convergence(errors):\n",
    "    rates = 0;\n",
    "    for i in range(1, len(errors) - 1):\n",
    "        if errors[i] == 0 or errors[i-1] == 0:  # prevent division by zero\n",
    "            continue\n",
    "        rate = np.log(errors[i + 1] / errors[i]) / np.log(errors[i] / errors[i - 1])\n",
    "        rates+=rate\n",
    "    return rates/len(errors)\n",
    "\n",
    "# Define the starting points and intervals\n",
    "x0_f = 1.5\n",
    "x0_g = 0.1\n",
    "x0_h = 0.1\n",
    "x1_g = 0.2\n",
    "x1_h = 0.2\n",
    "\n",
    "a_f, b_f = 1.0, 2.0\n",
    "a_g, b_g = -5.0, -4.0\n",
    "a_h, b_h = -2.0, -1.0\n",
    "\n",
    "# Run the methods for f(x)\n",
    "nr_errors_f = newton_raphson(f1, df, x0_f)\n",
    "secant_errors_f = secant(f1, 1.5, 2.0)\n",
    "bisection_errors_f = bisection(f1, a_f, b_f)\n",
    "false_pos_errors_f = false_position(f1, a_f, b_f)\n",
    "\n",
    "# Run the methods for g(x) using numerical derivatives for Newton-Raphson\n",
    "nr_errors_g = newton_raphson_numerical(f2, x0_g)\n",
    "secant_errors_g = secant(f2, x0_g, x1_g)\n",
    "bisection_errors_g = bisection(f2, a_g, b_g)\n",
    "false_pos_errors_g = false_position(f2, a_g, b_g)\n",
    "\n",
    "# Run the methods for h(x) using numerical derivatives for Newton-Raphson\n",
    "nr_errors_h = newton_raphson_numerical(f3, x0_h)\n",
    "secant_errors_h = secant(f3, x0_h, x1_h)\n",
    "bisection_errors_h = bisection(f3, a_h, b_h)\n",
    "false_pos_errors_h = false_position(f3, a_h, b_h)\n",
    "\n",
    "# Calculate orders of convergence\n",
    "nr_order_f = order_of_convergence(nr_errors_f)\n",
    "secant_order_f = order_of_convergence(secant_errors_f)\n",
    "bisection_order_f = order_of_convergence(bisection_errors_f)\n",
    "false_pos_order_f = order_of_convergence(false_pos_errors_f)\n",
    "\n",
    "nr_order_g = order_of_convergence(nr_errors_g)\n",
    "secant_order_g = order_of_convergence(secant_errors_g)\n",
    "bisection_order_g = order_of_convergence(bisection_errors_g)\n",
    "false_pos_order_g = order_of_convergence(false_pos_errors_g)\n",
    "\n",
    "nr_order_h = order_of_convergence(nr_errors_h)\n",
    "secant_order_h = order_of_convergence(secant_errors_h)\n",
    "bisection_order_h = order_of_convergence(bisection_errors_h)\n",
    "false_pos_order_h = order_of_convergence(false_pos_errors_h)\n",
    "\n",
    "# Print results\n",
    "print(\"Newton-Raphson order of convergence for f(x):\", nr_order_f)\n",
    "print(\"Secant order of convergence for f(x):\", secant_order_f)\n",
    "print(\"Bisection order of convergence for f(x):\", bisection_order_f)\n",
    "print(\"False Position order of convergence for f(x):\", false_pos_order_f)\n",
    "\n",
    "print(\"Newton-Raphson order of convergence for g(x):\", nr_order_g)\n",
    "print(\"Secant order of convergence for g(x):\", secant_order_g)\n",
    "print(\"Bisection order of convergence for g(x):\", bisection_order_g)\n",
    "print(\"False Position order of convergence for g(x):\", false_pos_order_g)\n",
    "\n",
    "print(\"Newton-Raphson order of convergence for h(x):\", nr_order_h)\n",
    "print(\"Secant order of convergence for h(x):\", secant_order_h)\n",
    "print(\"Bisection order of convergence for h(x):\", bisection_order_h)\n",
    "print(\"False Position order of convergence for h(x):\", false_pos_order_h)\n"
   ]
  },
  {
   "cell_type": "code",
   "execution_count": null,
   "id": "cb0aa643-8d0c-4b05-b2f6-5bb6daeecb78",
   "metadata": {},
   "outputs": [],
   "source": []
  }
 ],
 "metadata": {
  "kernelspec": {
   "display_name": "Python 3 (ipykernel)",
   "language": "python",
   "name": "python3"
  },
  "language_info": {
   "codemirror_mode": {
    "name": "ipython",
    "version": 3
   },
   "file_extension": ".py",
   "mimetype": "text/x-python",
   "name": "python",
   "nbconvert_exporter": "python",
   "pygments_lexer": "ipython3",
   "version": "3.11.5"
  }
 },
 "nbformat": 4,
 "nbformat_minor": 5
}
