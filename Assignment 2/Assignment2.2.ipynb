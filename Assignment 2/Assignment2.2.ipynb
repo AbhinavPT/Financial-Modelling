{
 "cells": [
  {
   "cell_type": "code",
   "execution_count": 1,
   "id": "5affdf9f-fad1-4e23-b0ae-6b6d1898d500",
   "metadata": {
    "tags": []
   },
   "outputs": [],
   "source": [
    "import datetime\n",
    "import numpy as np\n",
    "\n",
    "# Function to calculate the number of days between two dates\n",
    "def days_between(d1, d2):\n",
    "    return (d2 - d1).days"
   ]
  },
  {
   "cell_type": "markdown",
   "id": "08908f16-c40e-4eb0-a762-3b376d379989",
   "metadata": {},
   "source": [
    "#Accrued interest function"
   ]
  },
  {
   "cell_type": "code",
   "execution_count": 2,
   "id": "d48be1fb-be68-4d2b-ba5e-2723ad2869fd",
   "metadata": {
    "tags": []
   },
   "outputs": [],
   "source": [
    "# Function to calculate accrued interest\n",
    "def accrued_interest(recent_coupon_date, current_date, coupon_rate, face_value, coupon_frequency):\n",
    "    days_since_coupon = days_between(recent_coupon_date, current_date)\n",
    "    days_in_period = 365 / coupon_frequency\n",
    "    return (days_since_coupon / days_in_period) * (coupon_rate * face_value / coupon_frequency)\n"
   ]
  },
  {
   "cell_type": "markdown",
   "id": "15c546f5-86da-46e2-90f7-70557986659b",
   "metadata": {},
   "source": [
    "#ytm computing function using newton raphson"
   ]
  },
  {
   "cell_type": "code",
   "execution_count": 5,
   "id": "067566d9-b146-4a55-81b4-eb83139c492a",
   "metadata": {
    "tags": []
   },
   "outputs": [],
   "source": [
    "def ytm_newton_raphson(pd, coupon_rate, coupon_frequency, face_value, maturity_date, current_date, recent_coupon_date, iterations=10):\n",
    "    # Convert dates to datetime objects\n",
    "    maturity_date = datetime.datetime.strptime(maturity_date, \"%d-%m-%Y\")\n",
    "    current_date = datetime.datetime.strptime(current_date, \"%d-%m-%Y\")\n",
    "    recent_coupon_date = datetime.datetime.strptime(recent_coupon_date, \"%d-%m-%Y\")\n",
    "    \n",
    "    # Calculate accrued interest\n",
    "    ai = accrued_interest(recent_coupon_date, current_date, coupon_rate, face_value, coupon_frequency)\n",
    "    \n",
    "    # Clean price\n",
    "    pc = pd - ai\n",
    "    \n",
    "    # Initial guess for YTM\n",
    "    ytm_guess = coupon_rate\n",
    "    \n",
    "    # Newton-Raphson iteration\n",
    "    for _ in range(iterations):\n",
    "        # Calculate the price and the derivative of the price with respect to ytm\n",
    "        price = 0\n",
    "        derivative = 0\n",
    "        for i in range(1, int((maturity_date - recent_coupon_date).days * coupon_frequency / 365) + 1):\n",
    "            coupon_date = recent_coupon_date + datetime.timedelta(days=i * 365 / coupon_frequency)\n",
    "            t = days_between(current_date, coupon_date) / 365.0\n",
    "            discount_factor = (1 + ytm_guess / coupon_frequency) ** (coupon_frequency * t)\n",
    "            price += (coupon_rate * face_value / coupon_frequency) / discount_factor\n",
    "            derivative += -(t * (coupon_rate * face_value / coupon_frequency) / discount_factor) / (1 + ytm_guess / coupon_frequency)\n",
    "        \n",
    "        # Add the face value at maturity\n",
    "        t = days_between(current_date, maturity_date) / 365.0\n",
    "        discount_factor = (1 + ytm_guess / coupon_frequency) ** (coupon_frequency * t)\n",
    "        price += face_value / discount_factor\n",
    "        derivative += -(t * (face_value / discount_factor)) / (1 + ytm_guess / coupon_frequency)\n",
    "        \n",
    "        # Calculate the new guess for YTM\n",
    "        ytm_guess -= (price - pc) / derivative\n",
    "    \n",
    "    return ytm_guess"
   ]
  },
  {
   "cell_type": "markdown",
   "id": "f971b08b-be6a-428c-bfae-9d70f73b2c73",
   "metadata": {},
   "source": [
    "#example 3.5"
   ]
  },
  {
   "cell_type": "code",
   "execution_count": 7,
   "id": "076ecce2-9879-4cbb-a5cc-0c8d875ea87d",
   "metadata": {
    "tags": []
   },
   "outputs": [
    {
     "name": "stdout",
     "output_type": "stream",
     "text": [
      "Yield to Maturity: 0.639725\n"
     ]
    }
   ],
   "source": [
    "# Example input (Problem 3.4 and 3.5 in Accrued Interest doc)\n",
    "pd = 1098  # Last traded (dirty) price\n",
    "coupon_rate = 0.1  # Coupon rate\n",
    "coupon_frequency = 1  # Coupon frequency (semi-annual)\n",
    "face_value = 1000  # Face value\n",
    "maturity_date = \"31-12-2023\"  # Maturity date\n",
    "current_date = \"01-05-2022\"  # Current date\n",
    "recent_coupon_date = \"01-01-2020\"  # Recent past coupon payment date\n",
    "\n",
    "ytm = ytm_newton_raphson(pd, coupon_rate, coupon_frequency, face_value, maturity_date, current_date, recent_coupon_date)\n",
    "print(f\"Yield to Maturity: {ytm:.6f}\")"
   ]
  }
 ],
 "metadata": {
  "kernelspec": {
   "display_name": "Python 3 (ipykernel)",
   "language": "python",
   "name": "python3"
  },
  "language_info": {
   "codemirror_mode": {
    "name": "ipython",
    "version": 3
   },
   "file_extension": ".py",
   "mimetype": "text/x-python",
   "name": "python",
   "nbconvert_exporter": "python",
   "pygments_lexer": "ipython3",
   "version": "3.11.5"
  }
 },
 "nbformat": 4,
 "nbformat_minor": 5
}
